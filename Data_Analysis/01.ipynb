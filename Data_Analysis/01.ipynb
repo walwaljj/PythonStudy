{
 "cells": [
  {
   "cell_type": "code",
   "execution_count": 1,
   "metadata": {},
   "outputs": [],
   "source": [
    "import csv"
   ]
  },
  {
   "cell_type": "code",
   "execution_count": 25,
   "metadata": {},
   "outputs": [
    {
     "ename": "TypeError",
     "evalue": " expected at least 1 argument, got 0",
     "output_type": "error",
     "traceback": [
      "\u001b[1;31m---------------------------------------------------------------------------\u001b[0m",
      "\u001b[1;31mTypeError\u001b[0m                                 Traceback (most recent call last)",
      "Cell \u001b[1;32mIn [25], line 2\u001b[0m\n\u001b[0;32m      1\u001b[0m f \u001b[39m=\u001b[39m \u001b[39mopen\u001b[39m(\u001b[39m\"\u001b[39m\u001b[39m./data/ta_20221201231552.csv\u001b[39m\u001b[39m\"\u001b[39m,\u001b[39m'\u001b[39m\u001b[39mr\u001b[39m\u001b[39m'\u001b[39m,encoding\u001b[39m=\u001b[39m\u001b[39m'\u001b[39m\u001b[39mcp949\u001b[39m\u001b[39m'\u001b[39m)\n\u001b[1;32m----> 2\u001b[0m data \u001b[39m=\u001b[39m csv\u001b[39m.\u001b[39;49mreader(fmdelimiter \u001b[39m=\u001b[39;49m \u001b[39m'\u001b[39;49m\u001b[39m,\u001b[39;49m\u001b[39m'\u001b[39;49m)\n\u001b[0;32m      3\u001b[0m header \u001b[39m=\u001b[39m \u001b[39mnext\u001b[39m(data)\n\u001b[0;32m      4\u001b[0m max_temp \u001b[39m=\u001b[39m \u001b[39m-\u001b[39m\u001b[39m999\u001b[39m\n",
      "\u001b[1;31mTypeError\u001b[0m:  expected at least 1 argument, got 0"
     ]
    }
   ],
   "source": [
    "\n",
    "f = open(\"./data/ta_20221201231552.csv\",'r',encoding='cp949')\n",
    "data = csv.reader(fmdelimiter = ',')\n",
    "header = next(data)\n",
    "max_temp = -999\n",
    "max_date = ''\n",
    "for row in data :\n",
    "    if row[-1] == '' :\n",
    "        row[-1] = -999\n",
    "    row[-1] = float(row[-1])\n",
    "    if max_temp < row[-1] :\n",
    "        max_date = row[0]\n",
    "        max_temp = row[-1]\n",
    "f.close()\n",
    "print(f\"가장 기온이 높았던날 : {max_date}로 , 기온 : {max_temp}\")"
   ]
  }
 ],
 "metadata": {
  "kernelspec": {
   "display_name": "Python 3.9.13 64-bit",
   "language": "python",
   "name": "python3"
  },
  "language_info": {
   "codemirror_mode": {
    "name": "ipython",
    "version": 3
   },
   "file_extension": ".py",
   "mimetype": "text/x-python",
   "name": "python",
   "nbconvert_exporter": "python",
   "pygments_lexer": "ipython3",
   "version": "3.9.13"
  },
  "orig_nbformat": 4,
  "vscode": {
   "interpreter": {
    "hash": "81794d4967e6c3204c66dcd87b604927b115b27c00565d3d43f05ba2f3a2cb0d"
   }
  }
 },
 "nbformat": 4,
 "nbformat_minor": 2
}
